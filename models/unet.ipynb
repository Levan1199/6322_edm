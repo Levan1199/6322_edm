{
 "cells": [
  {
   "cell_type": "code",
   "execution_count": 5,
   "metadata": {},
   "outputs": [
    {
     "name": "stdout",
     "output_type": "stream",
     "text": [
      "torch.Size([1, 1, 128, 128])\n"
     ]
    }
   ],
   "source": [
    "import torch\n",
    "import torch.nn as nn\n",
    "import torch.nn.functional as F\n",
    "\n",
    "class UNet(nn.Module):\n",
    "    def __init__(self, in_channels=3, out_channels=3, time_emb_dim=128):\n",
    "        super().__init__()\n",
    "        #encoder\n",
    "        self.encoder1 = self.convolution_block(in_channels, out_channels)\n",
    "        self.encoder2 = self.convolution_block(out_channels, out_channels*2)\n",
    "\n",
    "        # Bottleneck\n",
    "        self.bottleneck = self.convolution_block(out_channels * 2, out_channels * 4)\n",
    "\n",
    "        #decoder\n",
    "        self.decoder2 = self.up_block(out_channels * 4, out_channels * 2)\n",
    "        self.decoder1 = self.up_block(out_channels * 2, out_channels)\n",
    "\n",
    "        # Final output\n",
    "        self.last_conv = nn.Conv2d(out_channels, 1, kernel_size=1)\n",
    "    \n",
    "    def convolution_block(self, in_c, out_c):\n",
    "        return nn.Sequential(\n",
    "            nn.Conv2d(in_c, out_c, kernel_size=3, padding=1),\n",
    "            nn.ReLU(inplace=True),\n",
    "            nn.Conv2d(out_c, out_c, kernel_size=3, padding=1),\n",
    "            nn.ReLU(inplace=True)\n",
    "        )\n",
    "    \n",
    "    def up_block(self, in_c, out_c):\n",
    "        return nn.Sequential(\n",
    "            nn.ConvTranspose2d(in_c, out_c, kernel_size=2, stride=2),\n",
    "            self.convolution_block(out_c * 2, out_c)\n",
    "        )\n",
    "    \n",
    "    def forward(self, x):\n",
    "        # return x_pred  \n",
    "        # # Predicted noise \n",
    "        # # maybe need time embedding\n",
    "        enc1 = self.encoder1(x)\n",
    "        enc2 = self.encoder2(F.max_pool2d(enc1, 2))\n",
    "        \n",
    "        b = self.bottleneck(F.max_pool2d(enc2, 2))\n",
    "\n",
    "        d2 = self.decoder2[0](b)\n",
    "        d2 = self.decoder2[1](torch.cat([d2, enc2], dim=1))\n",
    "\n",
    "        d1 = self.decoder1[0](d2)\n",
    "        d1 = self.decoder1[1](torch.cat([d1, enc1], dim=1))\n",
    "\n",
    "        return self.last_conv(d1)\n",
    "    \n",
    "\n",
    "model = UNet()\n",
    "x = torch.randn(1, 3, 128, 128)  # batch_size=1, 1 channel, 128x128 image\n",
    "y = model(x)\n",
    "print(y.shape)  # Output: torch.Size([1, 1, 128, 128])"
   ]
  },
  {
   "cell_type": "code",
   "execution_count": null,
   "metadata": {},
   "outputs": [],
   "source": []
  }
 ],
 "metadata": {
  "kernelspec": {
   "display_name": "6322_edm",
   "language": "python",
   "name": "python3"
  },
  "language_info": {
   "codemirror_mode": {
    "name": "ipython",
    "version": 3
   },
   "file_extension": ".py",
   "mimetype": "text/x-python",
   "name": "python",
   "nbconvert_exporter": "python",
   "pygments_lexer": "ipython3",
   "version": "3.9.0"
  }
 },
 "nbformat": 4,
 "nbformat_minor": 2
}
