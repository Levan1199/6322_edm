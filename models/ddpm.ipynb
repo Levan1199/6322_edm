{
 "cells": [
  {
   "cell_type": "code",
   "execution_count": null,
   "metadata": {},
   "outputs": [],
   "source": [
    "from models.unet import UNet\n",
    "\n",
    "class DDPM(nn.Module):\n",
    "    def __init__(self, model, beta_schedule):\n",
    "        super().__init__()\n",
    "        self.model = model\n",
    "        self.beta_schedule = beta_schedule  # schedule based on schedule\n",
    "\n",
    "    def forward(self, x_t, t):\n",
    "        return self.model(x_t, t)  # Predict noise\n",
    "\n",
    "    def sample(self, num_samples):\n",
    "        # can be deterministic or statistic\n",
    "        pass\n"
   ]
  }
 ],
 "metadata": {
  "language_info": {
   "name": "python"
  }
 },
 "nbformat": 4,
 "nbformat_minor": 2
}
