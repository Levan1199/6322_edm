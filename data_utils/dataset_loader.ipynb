{
 "cells": [
  {
   "cell_type": "code",
   "execution_count": null,
   "metadata": {},
   "outputs": [
    {
     "name": "stderr",
     "output_type": "stream",
     "text": [
      "100%|██████████| 170M/170M [00:12<00:00, 13.8MB/s] \n"
     ]
    },
    {
     "name": "stdout",
     "output_type": "stream",
     "text": [
      "torch.Size([64, 3, 32, 32]) torch.Size([64])\n"
     ]
    }
   ],
   "source": [
    "import torchvision.transforms as transforms\n",
    "import torchvision.datasets as datasets\n",
    "from torch.utils.data import DataLoader\n",
    "\n",
    "class DatasetLoader:\n",
    "    def __init__(self, dataset_name=\"cifar10\", batch_size=64):\n",
    "        self.dataset_name = dataset_name.lower()\n",
    "        self.batch_size = batch_size\n",
    "\n",
    "    def get_dataset(self):\n",
    "        return self._load_torch_dataset()\n",
    "\n",
    "    def _load_torch_dataset(self):\n",
    "        transform = transforms.Compose([\n",
    "            transforms.ToTensor(),\n",
    "            transforms.Normalize((0.5,), (0.5,))\n",
    "        ])\n",
    "\n",
    "        if self.dataset_name == \"cifar10\":\n",
    "            dataset = datasets.CIFAR10(root=\"../data\", train=True, download=True, transform=transform)\n",
    "        elif self.dataset_name == \"ffhq\":\n",
    "            return self._load_ffhq()\n",
    "        else:\n",
    "            raise ValueError(\"Only 'cifar10' or 'ffhq' are supported in this version.\")\n",
    "        return DataLoader(dataset, batch_size=self.batch_size, shuffle=True)\n",
    "\n",
    "# Example Usage:\n",
    "torch_loader = DatasetLoader(dataset_name=\"cifar10\", batch_size=64)\n",
    "dataloader = torch_loader.get_dataset()\n",
    "\n",
    "# Iterate through dataset (example)\n",
    "for images, labels in dataloader:\n",
    "    print(images.shape, labels.shape)  # torch.Size([64, 3, 32, 32]) torch.Size([64])\n",
    "    break\n"
   ]
  },
  {
   "cell_type": "code",
   "execution_count": null,
   "metadata": {},
   "outputs": [],
   "source": []
  }
 ],
 "metadata": {
  "kernelspec": {
   "display_name": "6322_edm",
   "language": "python",
   "name": "python3"
  },
  "language_info": {
   "codemirror_mode": {
    "name": "ipython",
    "version": 3
   },
   "file_extension": ".py",
   "mimetype": "text/x-python",
   "name": "python",
   "nbconvert_exporter": "python",
   "pygments_lexer": "ipython3",
   "version": "3.9.0"
  }
 },
 "nbformat": 4,
 "nbformat_minor": 2
}
