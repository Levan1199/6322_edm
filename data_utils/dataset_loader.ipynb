{
 "cells": [
  {
   "cell_type": "code",
   "execution_count": 1,
   "metadata": {},
   "outputs": [
    {
     "name": "stderr",
     "output_type": "stream",
     "text": [
      "100%|██████████| 170M/170M [00:44<00:00, 3.87MB/s] \n"
     ]
    },
    {
     "name": "stdout",
     "output_type": "stream",
     "text": [
      "torch.Size([64, 3, 32, 32]) torch.Size([64])\n"
     ]
    }
   ],
   "source": [
    "import torchvision.transforms as transforms\n",
    "import torchvision.datasets as datasets\n",
    "from torch.utils.data import DataLoader\n",
    "import os\n",
    "from torchvision.datasets import ImageFolder\n",
    "\n",
    "class DatasetLoader:\n",
    "    def __init__(self, dataset_name=\"cifar10\", batch_size=64):\n",
    "        self.dataset_name = dataset_name.lower()\n",
    "        self.batch_size = batch_size\n",
    "        self.data_path = \"../data\"\n",
    "        # self.data_root = os.path\n",
    "\n",
    "    def get_dataset(self):\n",
    "        if self.dataset_name == \"cifar10\":\n",
    "            return self._load_cifar10()\n",
    "        elif self.dataset_name == \"ffhq\":\n",
    "            return self._load_ffhq()\n",
    "        else:\n",
    "            raise ValueError(\"only cifar10 or ffhq\")\n",
    "        \n",
    "    def _load_cifar10(self):\n",
    "        transform = transforms.Compose([\n",
    "            transforms.ToTensor(),\n",
    "            transforms.Normalize((0.5,), (0.5,))\n",
    "        ])\n",
    "\n",
    "        dataset = datasets.CIFAR10(root=self.data_path, train=True, download=True, transform=transform)\n",
    "        return DataLoader(dataset=dataset, batch_size=self.batch_size, shuffle=True)\n",
    "    \n",
    "    def _load_ffhq(self):\n",
    "        transform = transforms.Compose([\n",
    "            transforms.Resize((256, 256)),  # Resize FFHQ images to 256x256\n",
    "            transforms.ToTensor(),\n",
    "            transforms.Normalize((0.5,), (0.5,))\n",
    "        ])\n",
    "\n",
    "        ffhq_path = self.data_path + \"/ffhq\"\n",
    "\n",
    "        if not os.path.exists(ffhq_path):\n",
    "            raise FileNotFoundError(f\"FFHQ dataset not found in {ffhq_path}\")\n",
    "\n",
    "        dataset = ImageFolder(root=ffhq_path, transform=transform)\n",
    "        return DataLoader(dataset, batch_size=self.batch_size, shuffle=True)\n",
    "\n",
    "#test\n",
    "torch_loader = DatasetLoader(dataset_name=\"cifar10\", batch_size=64)\n",
    "dataloader = torch_loader.get_dataset()\n",
    "\n",
    "for images, labels in dataloader:\n",
    "    print(images.shape, labels.shape)  # torch.Size([64, 3, 32, 32]) torch.Size([64])\n",
    "    break\n"
   ]
  },
  {
   "cell_type": "code",
   "execution_count": null,
   "metadata": {},
   "outputs": [],
   "source": []
  }
 ],
 "metadata": {
  "kernelspec": {
   "display_name": "6322_edm",
   "language": "python",
   "name": "python3"
  },
  "language_info": {
   "codemirror_mode": {
    "name": "ipython",
    "version": 3
   },
   "file_extension": ".py",
   "mimetype": "text/x-python",
   "name": "python",
   "nbconvert_exporter": "python",
   "pygments_lexer": "ipython3",
   "version": "3.9.21"
  }
 },
 "nbformat": 4,
 "nbformat_minor": 2
}
