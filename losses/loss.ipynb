{
 "cells": [
  {
   "cell_type": "code",
   "execution_count": 1,
   "metadata": {},
   "outputs": [],
   "source": [
    "import torch\n",
    "import torch.nn.functional as F\n",
    "\n",
    "class VPLoss:\n",
    "    def __call__(self, model, x_0, t, noise):\n",
    "        x_t = self.q_sample(x_0, t, noise)\n",
    "        pred_noise = model(x_t, t)\n",
    "        return F.mse_loss(pred_noise, noise) # recheck the loss function\n",
    "\n",
    "    def q_sample(self, x_0, t, noise):\n",
    "        # Apply forward process to add noise\n",
    "        # return x_t\n",
    "        pass\n"
   ]
  },
  {
   "cell_type": "code",
   "execution_count": null,
   "metadata": {},
   "outputs": [],
   "source": [
    "# def c_skip(sigma): return 1 / (sigma**2 + 1)**0.5\n",
    "# def c_out(sigma): return sigma / (sigma**2 + 1)**0.5\n",
    "# def c_in(sigma): return 1 / (sigma**2 + 1)**0.5\n",
    "# def c_noise(sigma): return log(sigma)  # or some scaled version\n"
   ]
  },
  {
   "cell_type": "code",
   "execution_count": 1,
   "metadata": {},
   "outputs": [
    {
     "ename": "NameError",
     "evalue": "name 'UNetDDPMpp' is not defined",
     "output_type": "error",
     "traceback": [
      "\u001b[1;31m---------------------------------------------------------------------------\u001b[0m",
      "\u001b[1;31mNameError\u001b[0m                                 Traceback (most recent call last)",
      "Cell \u001b[1;32mIn[1], line 8\u001b[0m\n\u001b[0;32m      5\u001b[0m \u001b[38;5;28;01mfrom\u001b[39;00m\u001b[38;5;250m \u001b[39m\u001b[38;5;21;01mtorchvision\u001b[39;00m\u001b[38;5;250m \u001b[39m\u001b[38;5;28;01mimport\u001b[39;00m datasets, transforms\n\u001b[0;32m      6\u001b[0m \u001b[38;5;28;01mfrom\u001b[39;00m\u001b[38;5;250m \u001b[39m\u001b[38;5;21;01mtqdm\u001b[39;00m\u001b[38;5;250m \u001b[39m\u001b[38;5;28;01mimport\u001b[39;00m tqdm\n\u001b[1;32m----> 8\u001b[0m model \u001b[38;5;241m=\u001b[39m \u001b[43mUNetDDPMpp\u001b[49m()\u001b[38;5;241m.\u001b[39mto(device)\n\u001b[0;32m      9\u001b[0m denoiser \u001b[38;5;241m=\u001b[39m Denoiser(model)\n\u001b[0;32m     11\u001b[0m optimizer \u001b[38;5;241m=\u001b[39m optim\u001b[38;5;241m.\u001b[39mAdam(model\u001b[38;5;241m.\u001b[39mparameters(), lr\u001b[38;5;241m=\u001b[39m\u001b[38;5;241m2e-4\u001b[39m)\n",
      "\u001b[1;31mNameError\u001b[0m: name 'UNetDDPMpp' is not defined"
     ]
    }
   ],
   "source": [
    "import torch\n",
    "import torch.nn as nn\n",
    "import torch.optim as optim\n",
    "from torch.utils.data import DataLoader\n",
    "from torchvision import datasets, transforms\n",
    "from tqdm import tqdm\n",
    "\n",
    "model = UNetDDPMpp().to(device)\n",
    "denoiser = Denoiser(model)\n",
    "\n",
    "optimizer = optim.Adam(model.parameters(), lr=2e-4)\n",
    "\n",
    "mse_loss = nn.MSELoss()\n",
    "\n",
    "beta_d = 19.9\n",
    "beta_min = 0.1\n",
    "epsilon_t = 1e-5\n",
    "\n",
    "transform = transforms.Compose([\n",
    "    transforms.Resize(32),\n",
    "    transforms.ToTensor(),\n",
    "    transforms.Normalize(0.5, 0.5),\n",
    "])\n",
    "\n",
    "dataset = datasets.CIFAR10(root='./data', train=True, download=True, transform=transform)\n",
    "loader = DataLoader(dataset, batch_size=64, shuffle=True, num_workers=2)\n",
    "\n",
    "epochs = 50\n",
    "for epoch in range(epochs):\n",
    "    model.train()\n",
    "    pbar = tqdm(loader)\n",
    "    total_loss = 0\n",
    "\n",
    "    for x, _ in pbar:\n",
    "        x = x.to(device)\n",
    "        B = x.size(0)\n",
    "\n",
    "        t = torch.rand(B, device=x.device) * (1.0 - epsilon_t) + epsilon_t\n",
    "\n",
    "        sigma = torch.sqrt(torch.exp(0.5 * beta_d * t ** 2 + beta_min * t) - 1)\n",
    "        sigma = sigma.view(-1, 1, 1, 1)\n",
    "\n",
    "        noise = torch.randn_like(x)\n",
    "        x_noisy = x + sigma * noise\n",
    "\n",
    "        pred = denoiser(x_noisy, sigma.view(-1))  # sigma input to Denoiser\n",
    "\n",
    "        loss = (1 / (sigma ** 2)) * (pred - noise) ** 2\n",
    "        loss = loss.mean()\n",
    "\n",
    "        optimizer.zero_grad()\n",
    "        loss.backward()\n",
    "        optimizer.step()\n",
    "\n",
    "        total_loss += loss.item()\n",
    "        pbar.set_description(f\"Epoch {epoch+1} | Loss: {loss.item():.4f}\")\n",
    "\n",
    "    print(f\"[Epoch {epoch+1}] Avg Loss: {total_loss / len(loader):.4f}\")\n"
   ]
  },
  {
   "cell_type": "code",
   "execution_count": null,
   "metadata": {},
   "outputs": [],
   "source": []
  }
 ],
 "metadata": {
  "kernelspec": {
   "display_name": "6322_edm",
   "language": "python",
   "name": "python3"
  },
  "language_info": {
   "codemirror_mode": {
    "name": "ipython",
    "version": 3
   },
   "file_extension": ".py",
   "mimetype": "text/x-python",
   "name": "python",
   "nbconvert_exporter": "python",
   "pygments_lexer": "ipython3",
   "version": "3.9.21"
  }
 },
 "nbformat": 4,
 "nbformat_minor": 2
}
