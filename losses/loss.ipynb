{
 "cells": [
  {
   "cell_type": "code",
   "execution_count": 1,
   "metadata": {},
   "outputs": [],
   "source": [
    "import torch\n",
    "import torch.nn.functional as F\n",
    "\n",
    "class VPLoss:\n",
    "    def __call__(self, model, x_0, t, noise):\n",
    "        x_t = self.q_sample(x_0, t, noise)\n",
    "        pred_noise = model(x_t, t)\n",
    "        return F.mse_loss(pred_noise, noise) # recheck the loss function\n",
    "\n",
    "    def q_sample(self, x_0, t, noise):\n",
    "        # Apply forward process to add noise\n",
    "        # return x_t\n",
    "        pass\n"
   ]
  },
  {
   "cell_type": "code",
   "execution_count": null,
   "metadata": {},
   "outputs": [],
   "source": [
    "# def c_skip(sigma): return 1 / (sigma**2 + 1)**0.5\n",
    "# def c_out(sigma): return sigma / (sigma**2 + 1)**0.5\n",
    "# def c_in(sigma): return 1 / (sigma**2 + 1)**0.5\n",
    "# def c_noise(sigma): return log(sigma)  # or some scaled version\n"
   ]
  }
 ],
 "metadata": {
  "kernelspec": {
   "display_name": "6322_edm",
   "language": "python",
   "name": "python3"
  },
  "language_info": {
   "codemirror_mode": {
    "name": "ipython",
    "version": 3
   },
   "file_extension": ".py",
   "mimetype": "text/x-python",
   "name": "python",
   "nbconvert_exporter": "python",
   "pygments_lexer": "ipython3",
   "version": "3.9.0"
  }
 },
 "nbformat": 4,
 "nbformat_minor": 2
}
