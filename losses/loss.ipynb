{
 "cells": [
  {
   "cell_type": "code",
   "execution_count": null,
   "metadata": {},
   "outputs": [],
   "source": [
    "import torch\n",
    "import torch.nn.functional as F\n",
    "\n",
    "class VPLoss:\n",
    "    def __call__(self, model, x_0, t, noise):\n",
    "        x_t = self.q_sample(x_0, t, noise)\n",
    "        pred_noise = model(x_t, t)\n",
    "        return F.mse_loss(pred_noise, noise) # recheck the loss function\n",
    "\n",
    "    def q_sample(self, x_0, t, noise):\n",
    "        # Apply forward process to add noise\n",
    "        # return x_t\n",
    "        pass\n"
   ]
  }
 ],
 "metadata": {
  "language_info": {
   "name": "python"
  }
 },
 "nbformat": 4,
 "nbformat_minor": 2
}
